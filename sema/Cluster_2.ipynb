{
 "cells": [
  {
   "cell_type": "code",
   "execution_count": 6,
   "metadata": {},
   "outputs": [],
   "source": [
    "import pandas as pd\n",
    "import matplotlib.pyplot as plt\n",
    "import seaborn as sns\n",
    "from sklearn.model_selection import train_test_split\n",
    "from sklearn.linear_model import LinearRegression\n",
    "from sklearn.metrics import mean_squared_error, r2_score\n",
    "from sklearn.tree import DecisionTreeRegressor\n",
    "\n"
   ]
  },
  {
   "cell_type": "code",
   "execution_count": 38,
   "metadata": {},
   "outputs": [],
   "source": [
    "data = pd.read_csv('./cleaned_data_v2.csv')"
   ]
  },
  {
   "cell_type": "code",
   "execution_count": 9,
   "metadata": {},
   "outputs": [
    {
     "name": "stdout",
     "output_type": "stream",
     "text": [
      "Note: you may need to restart the kernel to use updated packages.\n"
     ]
    },
    {
     "name": "stderr",
     "output_type": "stream",
     "text": [
      "\n",
      "[notice] A new release of pip is available: 23.3.2 -> 24.0\n",
      "[notice] To update, run: python.exe -m pip install --upgrade pip\n"
     ]
    },
    {
     "name": "stdout",
     "output_type": "stream",
     "text": [
      "Requirement already satisfied: pyod in c:\\users\\mainuser\\appdata\\local\\programs\\python\\python312\\lib\\site-packages (1.1.3)\n",
      "Requirement already satisfied: joblib in c:\\users\\mainuser\\appdata\\local\\programs\\python\\python312\\lib\\site-packages (from pyod) (1.3.2)\n",
      "Requirement already satisfied: matplotlib in c:\\users\\mainuser\\appdata\\local\\programs\\python\\python312\\lib\\site-packages (from pyod) (3.8.3)\n",
      "Requirement already satisfied: numpy>=1.19 in c:\\users\\mainuser\\appdata\\local\\programs\\python\\python312\\lib\\site-packages (from pyod) (1.26.4)\n",
      "Requirement already satisfied: numba>=0.51 in c:\\users\\mainuser\\appdata\\local\\programs\\python\\python312\\lib\\site-packages (from pyod) (0.59.1)\n",
      "Requirement already satisfied: scipy>=1.5.1 in c:\\users\\mainuser\\appdata\\local\\programs\\python\\python312\\lib\\site-packages (from pyod) (1.12.0)\n",
      "Requirement already satisfied: scikit-learn>=0.22.0 in c:\\users\\mainuser\\appdata\\local\\programs\\python\\python312\\lib\\site-packages (from pyod) (1.4.2)\n",
      "Requirement already satisfied: six in c:\\users\\mainuser\\appdata\\roaming\\python\\python312\\site-packages (from pyod) (1.16.0)\n",
      "Requirement already satisfied: llvmlite<0.43,>=0.42.0dev0 in c:\\users\\mainuser\\appdata\\local\\programs\\python\\python312\\lib\\site-packages (from numba>=0.51->pyod) (0.42.0)\n",
      "Requirement already satisfied: threadpoolctl>=2.0.0 in c:\\users\\mainuser\\appdata\\local\\programs\\python\\python312\\lib\\site-packages (from scikit-learn>=0.22.0->pyod) (3.3.0)\n",
      "Requirement already satisfied: contourpy>=1.0.1 in c:\\users\\mainuser\\appdata\\local\\programs\\python\\python312\\lib\\site-packages (from matplotlib->pyod) (1.2.0)\n",
      "Requirement already satisfied: cycler>=0.10 in c:\\users\\mainuser\\appdata\\local\\programs\\python\\python312\\lib\\site-packages (from matplotlib->pyod) (0.12.1)\n",
      "Requirement already satisfied: fonttools>=4.22.0 in c:\\users\\mainuser\\appdata\\local\\programs\\python\\python312\\lib\\site-packages (from matplotlib->pyod) (4.49.0)\n",
      "Requirement already satisfied: kiwisolver>=1.3.1 in c:\\users\\mainuser\\appdata\\local\\programs\\python\\python312\\lib\\site-packages (from matplotlib->pyod) (1.4.5)\n",
      "Requirement already satisfied: packaging>=20.0 in c:\\users\\mainuser\\appdata\\roaming\\python\\python312\\site-packages (from matplotlib->pyod) (23.2)\n",
      "Requirement already satisfied: pillow>=8 in c:\\users\\mainuser\\appdata\\local\\programs\\python\\python312\\lib\\site-packages (from matplotlib->pyod) (10.2.0)\n",
      "Requirement already satisfied: pyparsing>=2.3.1 in c:\\users\\mainuser\\appdata\\local\\programs\\python\\python312\\lib\\site-packages (from matplotlib->pyod) (3.1.1)\n",
      "Requirement already satisfied: python-dateutil>=2.7 in c:\\users\\mainuser\\appdata\\roaming\\python\\python312\\site-packages (from matplotlib->pyod) (2.8.2)\n"
     ]
    }
   ],
   "source": [
    "pip install pyod"
   ]
  },
  {
   "cell_type": "code",
   "execution_count": 39,
   "metadata": {},
   "outputs": [],
   "source": [
    "df = data.copy()"
   ]
  },
  {
   "cell_type": "code",
   "execution_count": 40,
   "metadata": {},
   "outputs": [
    {
     "data": {
      "text/plain": [
       "(21613, 20)"
      ]
     },
     "execution_count": 40,
     "metadata": {},
     "output_type": "execute_result"
    }
   ],
   "source": [
    "df.shape"
   ]
  },
  {
   "cell_type": "code",
   "execution_count": null,
   "metadata": {},
   "outputs": [],
   "source": [
    "pip install pyod"
   ]
  },
  {
   "cell_type": "code",
   "execution_count": 19,
   "metadata": {},
   "outputs": [
    {
     "name": "stdout",
     "output_type": "stream",
     "text": [
      "Requirement already satisfied: scikit-learn in c:\\users\\mainuser\\appdata\\local\\programs\\python\\python312\\lib\\site-packages (1.4.2)Note: you may need to restart the kernel to use updated packages.\n"
     ]
    },
    {
     "name": "stderr",
     "output_type": "stream",
     "text": [
      "  WARNING: Failed to remove contents in a temporary directory 'C:\\Users\\MainUser\\AppData\\Local\\Programs\\Python\\Python312\\Lib\\site-packages\\~-learn'.\n",
      "  You can safely remove it manually.\n",
      "\n",
      "[notice] A new release of pip is available: 23.3.2 -> 24.0\n",
      "[notice] To update, run: python.exe -m pip install --upgrade pip\n"
     ]
    },
    {
     "name": "stdout",
     "output_type": "stream",
     "text": [
      "\n",
      "Collecting scikit-learn\n",
      "  Downloading scikit_learn-1.5.0-cp312-cp312-win_amd64.whl.metadata (11 kB)\n",
      "Requirement already satisfied: numpy>=1.19.5 in c:\\users\\mainuser\\appdata\\local\\programs\\python\\python312\\lib\\site-packages (from scikit-learn) (1.26.4)\n",
      "Requirement already satisfied: scipy>=1.6.0 in c:\\users\\mainuser\\appdata\\local\\programs\\python\\python312\\lib\\site-packages (from scikit-learn) (1.12.0)\n",
      "Requirement already satisfied: joblib>=1.2.0 in c:\\users\\mainuser\\appdata\\local\\programs\\python\\python312\\lib\\site-packages (from scikit-learn) (1.3.2)\n",
      "Requirement already satisfied: threadpoolctl>=3.1.0 in c:\\users\\mainuser\\appdata\\local\\programs\\python\\python312\\lib\\site-packages (from scikit-learn) (3.3.0)\n",
      "Downloading scikit_learn-1.5.0-cp312-cp312-win_amd64.whl (10.9 MB)\n",
      "   ---------------------------------------- 0.0/10.9 MB ? eta -:--:--\n",
      "   ---------------------------------------- 0.0/10.9 MB ? eta -:--:--\n",
      "   ---------------------------------------- 0.0/10.9 MB 320.0 kB/s eta 0:00:35\n",
      "   ---------------------------------------- 0.1/10.9 MB 435.7 kB/s eta 0:00:25\n",
      "    --------------------------------------- 0.2/10.9 MB 1.3 MB/s eta 0:00:09\n",
      "   -- ------------------------------------- 0.6/10.9 MB 3.0 MB/s eta 0:00:04\n",
      "   ----- ---------------------------------- 1.6/10.9 MB 6.3 MB/s eta 0:00:02\n",
      "   --------- ------------------------------ 2.7/10.9 MB 9.0 MB/s eta 0:00:01\n",
      "   ------------- -------------------------- 3.7/10.9 MB 10.8 MB/s eta 0:00:01\n",
      "   ------------------ --------------------- 5.0/10.9 MB 12.9 MB/s eta 0:00:01\n",
      "   ---------------------- ----------------- 6.3/10.9 MB 14.3 MB/s eta 0:00:01\n",
      "   --------------------------- ------------ 7.6/10.9 MB 15.6 MB/s eta 0:00:01\n",
      "   ------------------------------- -------- 8.5/10.9 MB 15.9 MB/s eta 0:00:01\n",
      "   ------------------------------------ --- 9.9/10.9 MB 17.5 MB/s eta 0:00:01\n",
      "   ---------------------------------------  10.7/10.9 MB 24.2 MB/s eta 0:00:01\n",
      "   ---------------------------------------  10.9/10.9 MB 25.2 MB/s eta 0:00:01\n",
      "   ---------------------------------------- 10.9/10.9 MB 22.6 MB/s eta 0:00:00\n",
      "Installing collected packages: scikit-learn\n",
      "  Attempting uninstall: scikit-learn\n",
      "    Found existing installation: scikit-learn 1.4.2\n",
      "    Uninstalling scikit-learn-1.4.2:\n",
      "      Successfully uninstalled scikit-learn-1.4.2\n",
      "Successfully installed scikit-learn-1.5.0\n"
     ]
    }
   ],
   "source": [
    "pip install -U scikit-learn\n"
   ]
  },
  {
   "cell_type": "code",
   "execution_count": 31,
   "metadata": {},
   "outputs": [],
   "source": [
    "import lightgbm as lgb\n"
   ]
  },
  {
   "cell_type": "code",
   "execution_count": 34,
   "metadata": {},
   "outputs": [
    {
     "name": "stdout",
     "output_type": "stream",
     "text": [
      "Collecting prince\n",
      "  Downloading prince-0.13.0-py3-none-any.whl.metadata (638 bytes)\n",
      "Collecting altair<6.0.0,>=4.2.2 (from prince)\n",
      "  Downloading altair-5.3.0-py3-none-any.whl.metadata (9.2 kB)\n",
      "Requirement already satisfied: pandas<3.0.0,>=1.4.1 in c:\\users\\mainuser\\appdata\\local\\programs\\python\\python312\\lib\\site-packages (from prince) (2.2.0)\n",
      "Requirement already satisfied: scikit-learn<2.0.0,>=1.0.2 in c:\\users\\mainuser\\appdata\\local\\programs\\python\\python312\\lib\\site-packages (from prince) (1.5.0)\n",
      "Collecting jinja2 (from altair<6.0.0,>=4.2.2->prince)\n",
      "  Downloading jinja2-3.1.4-py3-none-any.whl.metadata (2.6 kB)\n",
      "Collecting jsonschema>=3.0 (from altair<6.0.0,>=4.2.2->prince)\n",
      "  Downloading jsonschema-4.22.0-py3-none-any.whl.metadata (8.2 kB)\n",
      "Requirement already satisfied: numpy in c:\\users\\mainuser\\appdata\\local\\programs\\python\\python312\\lib\\site-packages (from altair<6.0.0,>=4.2.2->prince) (1.26.4)\n",
      "Requirement already satisfied: packaging in c:\\users\\mainuser\\appdata\\roaming\\python\\python312\\site-packages (from altair<6.0.0,>=4.2.2->prince) (23.2)\n",
      "Collecting toolz (from altair<6.0.0,>=4.2.2->prince)\n",
      "  Downloading toolz-0.12.1-py3-none-any.whl.metadata (5.1 kB)\n",
      "Requirement already satisfied: python-dateutil>=2.8.2 in c:\\users\\mainuser\\appdata\\roaming\\python\\python312\\site-packages (from pandas<3.0.0,>=1.4.1->prince) (2.8.2)\n",
      "Requirement already satisfied: pytz>=2020.1 in c:\\users\\mainuser\\appdata\\local\\programs\\python\\python312\\lib\\site-packages (from pandas<3.0.0,>=1.4.1->prince) (2024.1)\n",
      "Requirement already satisfied: tzdata>=2022.7 in c:\\users\\mainuser\\appdata\\local\\programs\\python\\python312\\lib\\site-packages (from pandas<3.0.0,>=1.4.1->prince) (2024.1)\n",
      "Requirement already satisfied: scipy>=1.6.0 in c:\\users\\mainuser\\appdata\\local\\programs\\python\\python312\\lib\\site-packages (from scikit-learn<2.0.0,>=1.0.2->prince) (1.12.0)\n",
      "Requirement already satisfied: joblib>=1.2.0 in c:\\users\\mainuser\\appdata\\local\\programs\\python\\python312\\lib\\site-packages (from scikit-learn<2.0.0,>=1.0.2->prince) (1.3.2)\n",
      "Requirement already satisfied: threadpoolctl>=3.1.0 in c:\\users\\mainuser\\appdata\\local\\programs\\python\\python312\\lib\\site-packages (from scikit-learn<2.0.0,>=1.0.2->prince) (3.3.0)\n",
      "Collecting attrs>=22.2.0 (from jsonschema>=3.0->altair<6.0.0,>=4.2.2->prince)\n",
      "  Downloading attrs-23.2.0-py3-none-any.whl.metadata (9.5 kB)\n",
      "Collecting jsonschema-specifications>=2023.03.6 (from jsonschema>=3.0->altair<6.0.0,>=4.2.2->prince)\n",
      "  Downloading jsonschema_specifications-2023.12.1-py3-none-any.whl.metadata (3.0 kB)\n",
      "Collecting referencing>=0.28.4 (from jsonschema>=3.0->altair<6.0.0,>=4.2.2->prince)\n",
      "  Downloading referencing-0.35.1-py3-none-any.whl.metadata (2.8 kB)\n",
      "Collecting rpds-py>=0.7.1 (from jsonschema>=3.0->altair<6.0.0,>=4.2.2->prince)\n",
      "  Downloading rpds_py-0.18.1-cp312-none-win_amd64.whl.metadata (4.2 kB)\n",
      "Requirement already satisfied: six>=1.5 in c:\\users\\mainuser\\appdata\\roaming\\python\\python312\\site-packages (from python-dateutil>=2.8.2->pandas<3.0.0,>=1.4.1->prince) (1.16.0)\n",
      "Collecting MarkupSafe>=2.0 (from jinja2->altair<6.0.0,>=4.2.2->prince)\n",
      "  Downloading MarkupSafe-2.1.5-cp312-cp312-win_amd64.whl.metadata (3.1 kB)\n",
      "Downloading prince-0.13.0-py3-none-any.whl (415 kB)\n",
      "   ---------------------------------------- 0.0/415.6 kB ? eta -:--:--\n",
      "   ---------- ----------------------------- 112.6/415.6 kB 2.2 MB/s eta 0:00:01\n",
      "   ---------------------------------------  409.6/415.6 kB 4.3 MB/s eta 0:00:01\n",
      "   ---------------------------------------- 415.6/415.6 kB 3.7 MB/s eta 0:00:00\n",
      "Downloading altair-5.3.0-py3-none-any.whl (857 kB)\n",
      "   ---------------------------------------- 0.0/857.8 kB ? eta -:--:--\n",
      "   -------------------- ------------------ 450.6/857.8 kB 14.2 MB/s eta 0:00:01\n",
      "   --------------------------------------  849.9/857.8 kB 10.8 MB/s eta 0:00:01\n",
      "   ---------------------------------------- 857.8/857.8 kB 9.0 MB/s eta 0:00:00\n",
      "Downloading jsonschema-4.22.0-py3-none-any.whl (88 kB)\n",
      "   ---------------------------------------- 0.0/88.3 kB ? eta -:--:--\n",
      "   ---------------------------------------- 88.3/88.3 kB 4.9 MB/s eta 0:00:00\n",
      "Downloading jinja2-3.1.4-py3-none-any.whl (133 kB)\n",
      "   ---------------------------------------- 0.0/133.3 kB ? eta -:--:--\n",
      "   ---------------------------------------- 133.3/133.3 kB 7.7 MB/s eta 0:00:00\n",
      "Downloading toolz-0.12.1-py3-none-any.whl (56 kB)\n",
      "   ---------------------------------------- 0.0/56.1 kB ? eta -:--:--\n",
      "   ---------------------------------------- 56.1/56.1 kB ? eta 0:00:00\n",
      "Downloading attrs-23.2.0-py3-none-any.whl (60 kB)\n",
      "   ---------------------------------------- 0.0/60.8 kB ? eta -:--:--\n",
      "   ---------------------------------------- 60.8/60.8 kB ? eta 0:00:00\n",
      "Downloading jsonschema_specifications-2023.12.1-py3-none-any.whl (18 kB)\n",
      "Downloading MarkupSafe-2.1.5-cp312-cp312-win_amd64.whl (17 kB)\n",
      "Downloading referencing-0.35.1-py3-none-any.whl (26 kB)\n",
      "Downloading rpds_py-0.18.1-cp312-none-win_amd64.whl (209 kB)\n",
      "   ---------------------------------------- 0.0/209.3 kB ? eta -:--:--\n",
      "   --------------------------------------- 209.3/209.3 kB 12.4 MB/s eta 0:00:00\n",
      "Installing collected packages: toolz, rpds-py, MarkupSafe, attrs, referencing, jinja2, jsonschema-specifications, jsonschema, altair, prince\n",
      "Successfully installed MarkupSafe-2.1.5 altair-5.3.0 attrs-23.2.0 jinja2-3.1.4 jsonschema-4.22.0 jsonschema-specifications-2023.12.1 prince-0.13.0 referencing-0.35.1 rpds-py-0.18.1 toolz-0.12.1\n",
      "Note: you may need to restart the kernel to use updated packages.\n"
     ]
    },
    {
     "name": "stderr",
     "output_type": "stream",
     "text": [
      "\n",
      "[notice] A new release of pip is available: 23.3.2 -> 24.0\n",
      "[notice] To update, run: python.exe -m pip install --upgrade pip\n"
     ]
    }
   ],
   "source": [
    "pip install prince"
   ]
  },
  {
   "cell_type": "code",
   "execution_count": 35,
   "metadata": {},
   "outputs": [
    {
     "name": "stdout",
     "output_type": "stream",
     "text": [
      "Collecting shap\n",
      "  Downloading shap-0.45.1-cp312-cp312-win_amd64.whl.metadata (25 kB)\n",
      "Requirement already satisfied: numpy in c:\\users\\mainuser\\appdata\\local\\programs\\python\\python312\\lib\\site-packages (from shap) (1.26.4)\n",
      "Requirement already satisfied: scipy in c:\\users\\mainuser\\appdata\\local\\programs\\python\\python312\\lib\\site-packages (from shap) (1.12.0)\n",
      "Requirement already satisfied: scikit-learn in c:\\users\\mainuser\\appdata\\local\\programs\\python\\python312\\lib\\site-packages (from shap) (1.5.0)\n",
      "Requirement already satisfied: pandas in c:\\users\\mainuser\\appdata\\local\\programs\\python\\python312\\lib\\site-packages (from shap) (2.2.0)\n",
      "Collecting tqdm>=4.27.0 (from shap)\n",
      "  Downloading tqdm-4.66.4-py3-none-any.whl.metadata (57 kB)\n",
      "     ---------------------------------------- 0.0/57.6 kB ? eta -:--:--\n",
      "     ------- -------------------------------- 10.2/57.6 kB ? eta -:--:--\n",
      "     --------------------------------- ---- 51.2/57.6 kB 660.6 kB/s eta 0:00:01\n",
      "     -------------------------------------- 57.6/57.6 kB 434.1 kB/s eta 0:00:00\n",
      "Requirement already satisfied: packaging>20.9 in c:\\users\\mainuser\\appdata\\roaming\\python\\python312\\site-packages (from shap) (23.2)\n",
      "Collecting slicer==0.0.8 (from shap)\n",
      "  Downloading slicer-0.0.8-py3-none-any.whl.metadata (4.0 kB)\n",
      "Requirement already satisfied: numba in c:\\users\\mainuser\\appdata\\local\\programs\\python\\python312\\lib\\site-packages (from shap) (0.59.1)\n",
      "Collecting cloudpickle (from shap)\n",
      "  Downloading cloudpickle-3.0.0-py3-none-any.whl.metadata (7.0 kB)\n",
      "Requirement already satisfied: colorama in c:\\users\\mainuser\\appdata\\roaming\\python\\python312\\site-packages (from tqdm>=4.27.0->shap) (0.4.6)\n",
      "Requirement already satisfied: llvmlite<0.43,>=0.42.0dev0 in c:\\users\\mainuser\\appdata\\local\\programs\\python\\python312\\lib\\site-packages (from numba->shap) (0.42.0)\n",
      "Requirement already satisfied: python-dateutil>=2.8.2 in c:\\users\\mainuser\\appdata\\roaming\\python\\python312\\site-packages (from pandas->shap) (2.8.2)\n",
      "Requirement already satisfied: pytz>=2020.1 in c:\\users\\mainuser\\appdata\\local\\programs\\python\\python312\\lib\\site-packages (from pandas->shap) (2024.1)\n",
      "Requirement already satisfied: tzdata>=2022.7 in c:\\users\\mainuser\\appdata\\local\\programs\\python\\python312\\lib\\site-packages (from pandas->shap) (2024.1)\n",
      "Requirement already satisfied: joblib>=1.2.0 in c:\\users\\mainuser\\appdata\\local\\programs\\python\\python312\\lib\\site-packages (from scikit-learn->shap) (1.3.2)\n",
      "Requirement already satisfied: threadpoolctl>=3.1.0 in c:\\users\\mainuser\\appdata\\local\\programs\\python\\python312\\lib\\site-packages (from scikit-learn->shap) (3.3.0)\n",
      "Requirement already satisfied: six>=1.5 in c:\\users\\mainuser\\appdata\\roaming\\python\\python312\\site-packages (from python-dateutil>=2.8.2->pandas->shap) (1.16.0)\n",
      "Downloading shap-0.45.1-cp312-cp312-win_amd64.whl (455 kB)\n",
      "   ---------------------------------------- 0.0/455.7 kB ? eta -:--:--\n",
      "   --------------- ------------------------ 174.1/455.7 kB 5.3 MB/s eta 0:00:01\n",
      "   ---------------------------------------  450.6/455.7 kB 5.6 MB/s eta 0:00:01\n",
      "   ---------------------------------------- 455.7/455.7 kB 4.7 MB/s eta 0:00:00\n",
      "Downloading slicer-0.0.8-py3-none-any.whl (15 kB)\n",
      "Downloading tqdm-4.66.4-py3-none-any.whl (78 kB)\n",
      "   ---------------------------------------- 0.0/78.3 kB ? eta -:--:--\n",
      "   ---------------------------------------- 78.3/78.3 kB 4.3 MB/s eta 0:00:00\n",
      "Downloading cloudpickle-3.0.0-py3-none-any.whl (20 kB)\n",
      "Installing collected packages: tqdm, slicer, cloudpickle, shap\n",
      "Successfully installed cloudpickle-3.0.0 shap-0.45.1 slicer-0.0.8 tqdm-4.66.4\n",
      "Note: you may need to restart the kernel to use updated packages.\n"
     ]
    },
    {
     "name": "stderr",
     "output_type": "stream",
     "text": [
      "\n",
      "[notice] A new release of pip is available: 23.3.2 -> 24.0\n",
      "[notice] To update, run: python.exe -m pip install --upgrade pip\n"
     ]
    }
   ],
   "source": [
    "pip install shap"
   ]
  },
  {
   "cell_type": "code",
   "execution_count": 36,
   "metadata": {},
   "outputs": [
    {
     "name": "stdout",
     "output_type": "stream",
     "text": [
      "Collecting yellowbrickNote: you may need to restart the kernel to use updated packages.\n",
      "\n",
      "  Downloading yellowbrick-1.5-py3-none-any.whl.metadata (7.7 kB)\n",
      "Requirement already satisfied: matplotlib!=3.0.0,>=2.0.2 in c:\\users\\mainuser\\appdata\\local\\programs\\python\\python312\\lib\\site-packages (from yellowbrick) (3.8.3)\n",
      "Requirement already satisfied: scipy>=1.0.0 in c:\\users\\mainuser\\appdata\\local\\programs\\python\\python312\\lib\\site-packages (from yellowbrick) (1.12.0)\n",
      "Requirement already satisfied: scikit-learn>=1.0.0 in c:\\users\\mainuser\\appdata\\local\\programs\\python\\python312\\lib\\site-packages (from yellowbrick) (1.5.0)\n",
      "Requirement already satisfied: numpy>=1.16.0 in c:\\users\\mainuser\\appdata\\local\\programs\\python\\python312\\lib\\site-packages (from yellowbrick) (1.26.4)\n",
      "Requirement already satisfied: cycler>=0.10.0 in c:\\users\\mainuser\\appdata\\local\\programs\\python\\python312\\lib\\site-packages (from yellowbrick) (0.12.1)\n",
      "Requirement already satisfied: contourpy>=1.0.1 in c:\\users\\mainuser\\appdata\\local\\programs\\python\\python312\\lib\\site-packages (from matplotlib!=3.0.0,>=2.0.2->yellowbrick) (1.2.0)\n",
      "Requirement already satisfied: fonttools>=4.22.0 in c:\\users\\mainuser\\appdata\\local\\programs\\python\\python312\\lib\\site-packages (from matplotlib!=3.0.0,>=2.0.2->yellowbrick) (4.49.0)\n",
      "Requirement already satisfied: kiwisolver>=1.3.1 in c:\\users\\mainuser\\appdata\\local\\programs\\python\\python312\\lib\\site-packages (from matplotlib!=3.0.0,>=2.0.2->yellowbrick) (1.4.5)\n",
      "Requirement already satisfied: packaging>=20.0 in c:\\users\\mainuser\\appdata\\roaming\\python\\python312\\site-packages (from matplotlib!=3.0.0,>=2.0.2->yellowbrick) (23.2)\n",
      "Requirement already satisfied: pillow>=8 in c:\\users\\mainuser\\appdata\\local\\programs\\python\\python312\\lib\\site-packages (from matplotlib!=3.0.0,>=2.0.2->yellowbrick) (10.2.0)\n",
      "Requirement already satisfied: pyparsing>=2.3.1 in c:\\users\\mainuser\\appdata\\local\\programs\\python\\python312\\lib\\site-packages (from matplotlib!=3.0.0,>=2.0.2->yellowbrick) (3.1.1)\n",
      "Requirement already satisfied: python-dateutil>=2.7 in c:\\users\\mainuser\\appdata\\roaming\\python\\python312\\site-packages (from matplotlib!=3.0.0,>=2.0.2->yellowbrick) (2.8.2)\n",
      "Requirement already satisfied: joblib>=1.2.0 in c:\\users\\mainuser\\appdata\\local\\programs\\python\\python312\\lib\\site-packages (from scikit-learn>=1.0.0->yellowbrick) (1.3.2)\n",
      "Requirement already satisfied: threadpoolctl>=3.1.0 in c:\\users\\mainuser\\appdata\\local\\programs\\python\\python312\\lib\\site-packages (from scikit-learn>=1.0.0->yellowbrick) (3.3.0)\n",
      "Requirement already satisfied: six>=1.5 in c:\\users\\mainuser\\appdata\\roaming\\python\\python312\\site-packages (from python-dateutil>=2.7->matplotlib!=3.0.0,>=2.0.2->yellowbrick) (1.16.0)\n",
      "Downloading yellowbrick-1.5-py3-none-any.whl (282 kB)\n",
      "   ---------------------------------------- 0.0/282.6 kB ? eta -:--:--\n",
      "   ---------------------------------------- 0.0/282.6 kB ? eta -:--:--\n",
      "   ---------------------------------------- 0.0/282.6 kB ? eta -:--:--\n",
      "   ---------------------------------------- 0.0/282.6 kB ? eta -:--:--\n",
      "   ---- ---------------------------------- 30.7/282.6 kB 435.7 kB/s eta 0:00:01\n",
      "   ---- ---------------------------------- 30.7/282.6 kB 435.7 kB/s eta 0:00:01\n",
      "   ---- ---------------------------------- 30.7/282.6 kB 435.7 kB/s eta 0:00:01\n",
      "   ---- ---------------------------------- 30.7/282.6 kB 435.7 kB/s eta 0:00:01\n",
      "   ------------ -------------------------- 92.2/282.6 kB 374.1 kB/s eta 0:00:01\n",
      "   ---------------------- --------------- 163.8/282.6 kB 517.2 kB/s eta 0:00:01\n",
      "   -------------------------------------  276.5/282.6 kB 774.0 kB/s eta 0:00:01\n",
      "   -------------------------------------- 282.6/282.6 kB 756.6 kB/s eta 0:00:00\n",
      "Installing collected packages: yellowbrick\n",
      "Successfully installed yellowbrick-1.5\n"
     ]
    },
    {
     "name": "stderr",
     "output_type": "stream",
     "text": [
      "\n",
      "[notice] A new release of pip is available: 23.3.2 -> 24.0\n",
      "[notice] To update, run: python.exe -m pip install --upgrade pip\n"
     ]
    }
   ],
   "source": [
    "pip install yellowbrick"
   ]
  },
  {
   "cell_type": "code",
   "execution_count": 43,
   "metadata": {},
   "outputs": [
    {
     "name": "stdout",
     "output_type": "stream",
     "text": [
      "Requirement already satisfied: scikit-learn in c:\\users\\mainuser\\appdata\\local\\programs\\python\\python312\\lib\\site-packages (1.5.0)\n",
      "Requirement already satisfied: shap in c:\\users\\mainuser\\appdata\\local\\programs\\python\\python312\\lib\\site-packages (0.45.1)\n",
      "Requirement already satisfied: numpy>=1.19.5 in c:\\users\\mainuser\\appdata\\local\\programs\\python\\python312\\lib\\site-packages (from scikit-learn) (1.26.4)\n",
      "Requirement already satisfied: scipy>=1.6.0 in c:\\users\\mainuser\\appdata\\local\\programs\\python\\python312\\lib\\site-packages (from scikit-learn) (1.12.0)\n",
      "Requirement already satisfied: joblib>=1.2.0 in c:\\users\\mainuser\\appdata\\local\\programs\\python\\python312\\lib\\site-packages (from scikit-learn) (1.3.2)\n",
      "Requirement already satisfied: threadpoolctl>=3.1.0 in c:\\users\\mainuser\\appdata\\local\\programs\\python\\python312\\lib\\site-packages (from scikit-learn) (3.3.0)\n",
      "Requirement already satisfied: pandas in c:\\users\\mainuser\\appdata\\local\\programs\\python\\python312\\lib\\site-packages (from shap) (2.2.0)\n",
      "Requirement already satisfied: tqdm>=4.27.0 in c:\\users\\mainuser\\appdata\\local\\programs\\python\\python312\\lib\\site-packages (from shap) (4.66.4)\n",
      "Requirement already satisfied: packaging>20.9 in c:\\users\\mainuser\\appdata\\roaming\\python\\python312\\site-packages (from shap) (23.2)\n",
      "Requirement already satisfied: slicer==0.0.8 in c:\\users\\mainuser\\appdata\\local\\programs\\python\\python312\\lib\\site-packages (from shap) (0.0.8)\n",
      "Requirement already satisfied: numba in c:\\users\\mainuser\\appdata\\local\\programs\\python\\python312\\lib\\site-packages (from shap) (0.59.1)\n",
      "Requirement already satisfied: cloudpickle in c:\\users\\mainuser\\appdata\\local\\programs\\python\\python312\\lib\\site-packages (from shap) (3.0.0)\n",
      "Requirement already satisfied: colorama in c:\\users\\mainuser\\appdata\\roaming\\python\\python312\\site-packages (from tqdm>=4.27.0->shap) (0.4.6)\n",
      "Requirement already satisfied: llvmlite<0.43,>=0.42.0dev0 in c:\\users\\mainuser\\appdata\\local\\programs\\python\\python312\\lib\\site-packages (from numba->shap) (0.42.0)\n",
      "Requirement already satisfied: python-dateutil>=2.8.2 in c:\\users\\mainuser\\appdata\\roaming\\python\\python312\\site-packages (from pandas->shap) (2.8.2)\n",
      "Requirement already satisfied: pytz>=2020.1 in c:\\users\\mainuser\\appdata\\local\\programs\\python\\python312\\lib\\site-packages (from pandas->shap) (2024.1)\n",
      "Requirement already satisfied: tzdata>=2022.7 in c:\\users\\mainuser\\appdata\\local\\programs\\python\\python312\\lib\\site-packages (from pandas->shap) (2024.1)\n",
      "Requirement already satisfied: six>=1.5 in c:\\users\\mainuser\\appdata\\roaming\\python\\python312\\site-packages (from python-dateutil>=2.8.2->pandas->shap) (1.16.0)\n",
      "Note: you may need to restart the kernel to use updated packages.\n"
     ]
    },
    {
     "name": "stderr",
     "output_type": "stream",
     "text": [
      "\n",
      "[notice] A new release of pip is available: 23.3.2 -> 24.0\n",
      "[notice] To update, run: python.exe -m pip install --upgrade pip\n"
     ]
    }
   ],
   "source": [
    "pip install scikit-learn shap\n"
   ]
  },
  {
   "cell_type": "code",
   "execution_count": null,
   "metadata": {},
   "outputs": [],
   "source": [
    "from pyod.models.ecod import ECOD\n"
   ]
  },
  {
   "cell_type": "code",
   "execution_count": 6,
   "metadata": {},
   "outputs": [
    {
     "ename": "NameError",
     "evalue": "name 'df' is not defined",
     "output_type": "error",
     "traceback": [
      "\u001b[1;31m---------------------------------------------------------------------------\u001b[0m",
      "\u001b[1;31mNameError\u001b[0m                                 Traceback (most recent call last)",
      "Cell \u001b[1;32mIn[6], line 1\u001b[0m\n\u001b[1;32m----> 1\u001b[0m \u001b[43mdf\u001b[49m\u001b[38;5;241m.\u001b[39mcolumns\n",
      "\u001b[1;31mNameError\u001b[0m: name 'df' is not defined"
     ]
    }
   ],
   "source": [
    "df.columns"
   ]
  },
  {
   "cell_type": "code",
   "execution_count": 5,
   "metadata": {},
   "outputs": [
    {
     "ename": "TypeError",
     "evalue": "OneHotEncoder.__init__() got an unexpected keyword argument 'sparse'",
     "output_type": "error",
     "traceback": [
      "\u001b[1;31m---------------------------------------------------------------------------\u001b[0m",
      "\u001b[1;31mTypeError\u001b[0m                                 Traceback (most recent call last)",
      "Cell \u001b[1;32mIn[5], line 33\u001b[0m\n\u001b[0;32m     26\u001b[0m \u001b[38;5;28;01mfrom\u001b[39;00m \u001b[38;5;21;01msklearn\u001b[39;00m\u001b[38;5;21;01m.\u001b[39;00m\u001b[38;5;21;01mpreprocessing\u001b[39;00m \u001b[38;5;28;01mimport\u001b[39;00m OneHotEncoder, PowerTransformer, FunctionTransformer\n\u001b[0;32m     30\u001b[0m \u001b[38;5;66;03m# Preprocessing part\u001b[39;00m\n\u001b[0;32m     31\u001b[0m categorical_transformer_onehot \u001b[38;5;241m=\u001b[39m Pipeline(\n\u001b[0;32m     32\u001b[0m     steps\u001b[38;5;241m=\u001b[39m[\n\u001b[1;32m---> 33\u001b[0m         (\u001b[38;5;124m\"\u001b[39m\u001b[38;5;124mencoder\u001b[39m\u001b[38;5;124m\"\u001b[39m, \u001b[43mOneHotEncoder\u001b[49m\u001b[43m(\u001b[49m\u001b[43mhandle_unknown\u001b[49m\u001b[38;5;241;43m=\u001b[39;49m\u001b[38;5;124;43m\"\u001b[39;49m\u001b[38;5;124;43mignore\u001b[39;49m\u001b[38;5;124;43m\"\u001b[39;49m\u001b[43m,\u001b[49m\u001b[43m \u001b[49m\u001b[43mdrop\u001b[49m\u001b[38;5;241;43m=\u001b[39;49m\u001b[38;5;124;43m\"\u001b[39;49m\u001b[38;5;124;43mfirst\u001b[39;49m\u001b[38;5;124;43m\"\u001b[39;49m\u001b[43m,\u001b[49m\u001b[43m \u001b[49m\u001b[43msparse\u001b[49m\u001b[38;5;241;43m=\u001b[39;49m\u001b[38;5;28;43;01mFalse\u001b[39;49;00m\u001b[43m)\u001b[49m)\n\u001b[0;32m     34\u001b[0m     ])\n\u001b[0;32m     36\u001b[0m categorical_transformer_ordinal \u001b[38;5;241m=\u001b[39m Pipeline(\n\u001b[0;32m     37\u001b[0m     steps\u001b[38;5;241m=\u001b[39m[\n\u001b[0;32m     38\u001b[0m         (\u001b[38;5;124m\"\u001b[39m\u001b[38;5;124mencoder\u001b[39m\u001b[38;5;124m\"\u001b[39m, OrdinalEncoder())\n\u001b[0;32m     39\u001b[0m     ])\n\u001b[0;32m     41\u001b[0m num \u001b[38;5;241m=\u001b[39m Pipeline(\n\u001b[0;32m     42\u001b[0m     steps\u001b[38;5;241m=\u001b[39m[\n\u001b[0;32m     43\u001b[0m         (\u001b[38;5;124m\"\u001b[39m\u001b[38;5;124mencoder\u001b[39m\u001b[38;5;124m\"\u001b[39m, PowerTransformer())\n\u001b[0;32m     44\u001b[0m     ])\n",
      "\u001b[1;31mTypeError\u001b[0m: OneHotEncoder.__init__() got an unexpected keyword argument 'sparse'"
     ]
    }
   ],
   "source": [
    "import pandas as pd # dataframe manipulation\n",
    "import numpy as np # linear algebra\n",
    "\n",
    "# data visualization\n",
    "import matplotlib.pyplot as plt\n",
    "import matplotlib.cm as cm\n",
    "import plotly.express as px\n",
    "import plotly.graph_objects as go\n",
    "import seaborn as sns\n",
    "import shap\n",
    "\n",
    "# sklearn \n",
    "from sklearn.cluster import KMeans\n",
    "from sklearn.preprocessing import PowerTransformer, OrdinalEncoder\n",
    "from sklearn.pipeline import Pipeline\n",
    "from sklearn.manifold import TSNE\n",
    "from sklearn.metrics import silhouette_score, silhouette_samples, accuracy_score, classification_report\n",
    "\n",
    "from pyod.models.ecod import ECOD\n",
    "from yellowbrick.cluster import KElbowVisualizer\n",
    "\n",
    "import lightgbm as lgb\n",
    "import prince\n",
    "\n",
    "from sklearn.compose import ColumnTransformer\n",
    "from sklearn.preprocessing import OneHotEncoder, PowerTransformer, FunctionTransformer\n",
    "\n",
    "\n",
    "\n",
    "# Preprocessing part\n",
    "categorical_transformer_onehot = Pipeline(\n",
    "    steps=[\n",
    "        (\"encoder\", OneHotEncoder(handle_unknown=\"ignore\", drop=\"first\", sparse=False))\n",
    "    ])\n",
    "\n",
    "categorical_transformer_ordinal = Pipeline(\n",
    "    steps=[\n",
    "        (\"encoder\", OrdinalEncoder())\n",
    "    ])\n",
    "\n",
    "num = Pipeline(\n",
    "    steps=[\n",
    "        (\"encoder\", PowerTransformer())\n",
    "    ])\n",
    "\n",
    "\n",
    "preprocessor  = ColumnTransformer(transformers = [\n",
    "                ('cat_onehot', categorical_transformer_onehot, [\", \"housing\", \"loan\", \"job\", \"marital\"]),\n",
    "                ('cat_ordinal', categorical_transformer_ordinal, [\"education\"]),\n",
    "                ('num', num, [\"age\", \"balance\"])\n",
    "                ])\n",
    "\n",
    "pipeline = Pipeline(\n",
    "    steps=[(\"preprocessor\", preprocessor)]\n",
    "    )\n",
    "pipe_fit = pipeline.fit(df)\n",
    "\n",
    "data = pd.DataFrame(pipe_fit.transform(df), columns = pipe_fit.get_feature_names_out().tolist())\n",
    "\n",
    "\n",
    "print(data.columns.tolist())"
   ]
  }
 ],
 "metadata": {
  "kernelspec": {
   "display_name": "Python 3",
   "language": "python",
   "name": "python3"
  },
  "language_info": {
   "codemirror_mode": {
    "name": "ipython",
    "version": 3
   },
   "file_extension": ".py",
   "mimetype": "text/x-python",
   "name": "python",
   "nbconvert_exporter": "python",
   "pygments_lexer": "ipython3",
   "version": "3.12.1"
  }
 },
 "nbformat": 4,
 "nbformat_minor": 2
}
