{
 "cells": [
  {
   "cell_type": "code",
   "execution_count": 1,
   "metadata": {},
   "outputs": [],
   "source": [
    "import pandas as pd\n",
    "import numpy as np\n",
    "import matplotlib.pyplot as plt\n",
    "from catboost import CatBoostRegressor\n",
    "from sklearn.metrics import mean_squared_error, r2_score\n",
    "from sklearn.model_selection import train_test_split\n",
    "from sklearn.preprocessing import StandardScaler\n",
    "import streamlit as st\n",
    "import joblib\n",
    "\n",
    "# Veriyi yükleme ve işleme (Önceki adımlar)\n",
    "df = pd.read_csv('clustered_data_v2.csv')\n",
    "important_features = ['grade_living_normalized', 'distance_to_point_km', 'nearest_station_distance_km', 'commute_time', 'lat','cluster_all_data','price']\n",
    "df_wo_main = df[important_features]\n",
    "\n",
    "# IQR Yöntemi ile Aykırı Değerleri Bulma ve Baskılamak\n",
    "def cap_outliers(df):\n",
    "    capped_df = df.copy()\n",
    "    for col in df.select_dtypes(include=[np.number]).columns:\n",
    "        Q1 = df[col].quantile(0.25)\n",
    "        Q3 = df[col].quantile(0.75)\n",
    "        IQR = Q3 - Q1\n",
    "        lower_bound = Q1 - 1.5 * IQR\n",
    "        upper_bound = Q3 + 1.5 * IQR\n",
    "        capped_df[col] = np.where(df[col] < lower_bound, lower_bound, df[col])\n",
    "        capped_df[col] = np.where(df[col] > upper_bound, upper_bound, capped_df[col])\n",
    "    return capped_df\n",
    "\n",
    "df_wo_main_capped = cap_outliers(df_wo_main)\n",
    "\n",
    "\n",
    "# Modeli eğitme fonksiyonu\n",
    "def train_catboost_model(df):\n",
    "    y = df[df['cluster_all_data'] == 2]['price']\n",
    "    X = df[df['cluster_all_data'] == 2].drop(columns=['cluster_all_data', 'price'], axis=1)\n",
    "    \n",
    "    X_train, X_test, y_train, y_test = train_test_split(X, y, test_size=0.2, random_state=42)\n",
    "    \n",
    "    # StandardScaler ile normalizasyon\n",
    "    scaler = StandardScaler()\n",
    "    X_train_scaled = scaler.fit_transform(X_train)\n",
    "    X_test_scaled = scaler.transform(X_test)\n",
    "\n",
    "    model = CatBoostRegressor(verbose=0, random_state=42)\n",
    "    model.fit(X_train_scaled, y_train)\n",
    "    y_pred = model.predict(X_test_scaled)\n",
    "    \n",
    "    mse = np.sqrt(mean_squared_error(y_test, y_pred))\n",
    "    r2 = r2_score(y_test, y_pred)\n",
    "    \n",
    "    joblib.dump(model, 'model_cluster_2.pkl')\n",
    "    joblib.dump(scaler, 'scaler_cluster_2.pkl')\n",
    "\n",
    "train_catboost_model(df_wo_main_capped)"
   ]
  }
 ],
 "metadata": {
  "kernelspec": {
   "display_name": "Python 3",
   "language": "python",
   "name": "python3"
  },
  "language_info": {
   "codemirror_mode": {
    "name": "ipython",
    "version": 3
   },
   "file_extension": ".py",
   "mimetype": "text/x-python",
   "name": "python",
   "nbconvert_exporter": "python",
   "pygments_lexer": "ipython3",
   "version": "3.9.13"
  }
 },
 "nbformat": 4,
 "nbformat_minor": 2
}
